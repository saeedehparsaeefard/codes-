{
  "nbformat": 4,
  "nbformat_minor": 0,
  "metadata": {
    "colab": {
      "name": "Untitled12.ipynb",
      "provenance": [],
      "authorship_tag": "ABX9TyNWvBWOQsi2APPuxnLfHjq4",
      "include_colab_link": true
    },
    "kernelspec": {
      "name": "python3",
      "display_name": "Python 3"
    }
  },
  "cells": [
    {
      "cell_type": "markdown",
      "metadata": {
        "id": "view-in-github",
        "colab_type": "text"
      },
      "source": [
        "<a href=\"https://colab.research.google.com/github/saeedehparsaeefard/codes-/blob/master/Untitled12.ipynb\" target=\"_parent\"><img src=\"https://colab.research.google.com/assets/colab-badge.svg\" alt=\"Open In Colab\"/></a>"
      ]
    },
    {
      "cell_type": "code",
      "metadata": {
        "id": "f84Nli2AeLyw",
        "colab_type": "code",
        "colab": {
          "base_uri": "https://localhost:8080/",
          "height": 619
        },
        "outputId": "bb4bdb7d-e7a8-410b-e9f0-5f2d58deb2f0"
      },
      "source": [
        "def mergeSort(alist):\n",
        "    print(\"Splitting \",alist)\n",
        "    if len(alist)>1:\n",
        "        mid = len(alist)//2\n",
        "        lefthalf = alist[:mid]\n",
        "        righthalf = alist[mid:]\n",
        "\n",
        "        mergeSort(lefthalf)\n",
        "        mergeSort(righthalf)\n",
        "\n",
        "        i=0\n",
        "        j=0\n",
        "        k=0\n",
        "        while i < len(lefthalf) and j < len(righthalf):\n",
        "            if lefthalf[i] <= righthalf[j]:\n",
        "                alist[k]=lefthalf[i]\n",
        "                i=i+1\n",
        "            else:\n",
        "                alist[k]=righthalf[j]\n",
        "                j=j+1\n",
        "            k=k+1\n",
        "\n",
        "        while i < len(lefthalf):\n",
        "            alist[k]=lefthalf[i]\n",
        "            i=i+1\n",
        "            k=k+1\n",
        "\n",
        "        while j < len(righthalf):\n",
        "            alist[k]=righthalf[j]\n",
        "            j=j+1\n",
        "            k=k+1\n",
        "    print(\"Merging \",alist)\n",
        "\n",
        "alist = [54,26,93,17,77,31,44,55,20]\n",
        "mergeSort(alist)\n",
        "print(alist)"
      ],
      "execution_count": 1,
      "outputs": [
        {
          "output_type": "stream",
          "text": [
            "Splitting  [54, 26, 93, 17, 77, 31, 44, 55, 20]\n",
            "Splitting  [54, 26, 93, 17]\n",
            "Splitting  [54, 26]\n",
            "Splitting  [54]\n",
            "Merging  [54]\n",
            "Splitting  [26]\n",
            "Merging  [26]\n",
            "Merging  [26, 54]\n",
            "Splitting  [93, 17]\n",
            "Splitting  [93]\n",
            "Merging  [93]\n",
            "Splitting  [17]\n",
            "Merging  [17]\n",
            "Merging  [17, 93]\n",
            "Merging  [17, 26, 54, 93]\n",
            "Splitting  [77, 31, 44, 55, 20]\n",
            "Splitting  [77, 31]\n",
            "Splitting  [77]\n",
            "Merging  [77]\n",
            "Splitting  [31]\n",
            "Merging  [31]\n",
            "Merging  [31, 77]\n",
            "Splitting  [44, 55, 20]\n",
            "Splitting  [44]\n",
            "Merging  [44]\n",
            "Splitting  [55, 20]\n",
            "Splitting  [55]\n",
            "Merging  [55]\n",
            "Splitting  [20]\n",
            "Merging  [20]\n",
            "Merging  [20, 55]\n",
            "Merging  [20, 44, 55]\n",
            "Merging  [20, 31, 44, 55, 77]\n",
            "Merging  [17, 20, 26, 31, 44, 54, 55, 77, 93]\n",
            "[17, 20, 26, 31, 44, 54, 55, 77, 93]\n"
          ],
          "name": "stdout"
        }
      ]
    }
  ]
}